{
 "cells": [
  {
   "cell_type": "code",
   "execution_count": null,
   "id": "fad9f12d",
   "metadata": {},
   "outputs": [],
   "source": [
    "#par rapport au programme nommé \"AIA.py\", on change les modalités de traitement pour avoir l'annotation \"accord\""
   ]
  },
  {
   "cell_type": "code",
   "execution_count": 1,
   "id": "6208b044",
   "metadata": {},
   "outputs": [],
   "source": [
    "import pandas as pd\n",
    "import os"
   ]
  },
  {
   "cell_type": "code",
   "execution_count": 6,
   "id": "8ac6e62f",
   "metadata": {},
   "outputs": [],
   "source": [
    "# Sous-dossiers contenant les fichiers CSV\n",
    "carraud_dir = \"CARRAUD\"\n",
    "daudet_dir = \"DAUDET\"\n",
    "output_dir = \"OUTPUT\"\n",
    "\n",
    "# Créer le dossier de sortie s'il n'existe pas\n",
    "if not os.path.exists(output_dir):\n",
    "    os.makedirs(output_dir)"
   ]
  },
  {
   "cell_type": "code",
   "execution_count": 7,
   "id": "b53a6617",
   "metadata": {},
   "outputs": [
    {
     "name": "stderr",
     "output_type": "stream",
     "text": [
      "C:\\Users\\user\\AppData\\Local\\Temp\\ipykernel_1864\\3565007243.py:6: DtypeWarning: Columns (6,7) have mixed types. Specify dtype option on import or set low_memory=False.\n",
      "  df = pd.read_csv(filepath, sep=\";\")\n"
     ]
    },
    {
     "name": "stdout",
     "output_type": "stream",
     "text": [
      "Le fichier résultant a été sauvegardé à OUTPUT\\resultat_Adjudication_CARRAUD_petite-Jeanne_Kraken-base_spaCy3.7.2-lg.csv.aia.csv\n",
      "Le fichier résultant a été sauvegardé à OUTPUT\\resultat_Adjudication_CARRAUD_petite-Jeanne_REF_spaCy3.7.2-lg.csv.aia.csv\n"
     ]
    },
    {
     "name": "stderr",
     "output_type": "stream",
     "text": [
      "C:\\Users\\user\\AppData\\Local\\Temp\\ipykernel_1864\\3565007243.py:6: DtypeWarning: Columns (6,7) have mixed types. Specify dtype option on import or set low_memory=False.\n",
      "  df = pd.read_csv(filepath, sep=\";\")\n"
     ]
    },
    {
     "name": "stdout",
     "output_type": "stream",
     "text": [
      "Le fichier résultant a été sauvegardé à OUTPUT\\resultat_Adjudication_CARRAUD_petite-Jeanne_TesseractFra-PNG_spaCy3.7.2-lg.csv.aia.csv\n"
     ]
    },
    {
     "name": "stderr",
     "output_type": "stream",
     "text": [
      "C:\\Users\\user\\AppData\\Local\\Temp\\ipykernel_1864\\3565007243.py:6: DtypeWarning: Columns (6,7,10,11,12,13) have mixed types. Specify dtype option on import or set low_memory=False.\n",
      "  df = pd.read_csv(filepath, sep=\";\")\n"
     ]
    },
    {
     "name": "stdout",
     "output_type": "stream",
     "text": [
      "Le fichier résultant a été sauvegardé à OUTPUT\\resultat_resultat_Adjudication_CARRAUD_petite-Jeanne_REF_spaCy3.7.2-lg.csv.aia.csv\n"
     ]
    },
    {
     "name": "stderr",
     "output_type": "stream",
     "text": [
      "C:\\Users\\user\\AppData\\Local\\Temp\\ipykernel_1864\\3565007243.py:6: DtypeWarning: Columns (6,7,10,11,12,13) have mixed types. Specify dtype option on import or set low_memory=False.\n",
      "  df = pd.read_csv(filepath, sep=\";\")\n"
     ]
    },
    {
     "name": "stdout",
     "output_type": "stream",
     "text": [
      "Le fichier résultant a été sauvegardé à OUTPUT\\resultat_resultat_Adjudication_CARRAUD_petite-Jeanne_TesseractFra-PNG_spaCy3.7.2-lg.csv.aia.csv\n",
      "Le fichier résultant a été sauvegardé à OUTPUT\\resultat_Adjudication_DAUDET_petit-chose_Kraken-base_spaCy3.7.2-lg.csv.aia.csv\n",
      "Le fichier résultant a été sauvegardé à OUTPUT\\resultat_Adjudication_DAUDET_petit-chose_REF_spaCy3.7.2-lg.csv.aia.csv\n",
      "Le fichier résultant a été sauvegardé à OUTPUT\\resultat_Adjudication_DAUDET_petit-chose_TesseractFra-PNG_spaCy3.7.2-lg.csv.aia.csv\n"
     ]
    },
    {
     "name": "stderr",
     "output_type": "stream",
     "text": [
      "C:\\Users\\user\\AppData\\Local\\Temp\\ipykernel_1864\\3565007243.py:6: DtypeWarning: Columns (4,5,6,8,9) have mixed types. Specify dtype option on import or set low_memory=False.\n",
      "  df = pd.read_csv(filepath, sep=\";\")\n"
     ]
    },
    {
     "name": "stdout",
     "output_type": "stream",
     "text": [
      "Le fichier résultant a été sauvegardé à OUTPUT\\resultat_resultat_Adjudication_DAUDET_petit-chose_Kraken-base_spaCy3.7.2-lg.csv.aia.csv\n"
     ]
    },
    {
     "name": "stderr",
     "output_type": "stream",
     "text": [
      "C:\\Users\\user\\AppData\\Local\\Temp\\ipykernel_1864\\3565007243.py:6: DtypeWarning: Columns (4,5,6,8,9) have mixed types. Specify dtype option on import or set low_memory=False.\n",
      "  df = pd.read_csv(filepath, sep=\";\")\n"
     ]
    },
    {
     "name": "stdout",
     "output_type": "stream",
     "text": [
      "Le fichier résultant a été sauvegardé à OUTPUT\\resultat_resultat_Adjudication_DAUDET_petit-chose_REF_spaCy3.7.2-lg.csv.aia.csv\n"
     ]
    },
    {
     "name": "stderr",
     "output_type": "stream",
     "text": [
      "C:\\Users\\user\\AppData\\Local\\Temp\\ipykernel_1864\\3565007243.py:6: DtypeWarning: Columns (4,5,6,8,9) have mixed types. Specify dtype option on import or set low_memory=False.\n",
      "  df = pd.read_csv(filepath, sep=\";\")\n"
     ]
    },
    {
     "name": "stdout",
     "output_type": "stream",
     "text": [
      "Le fichier résultant a été sauvegardé à OUTPUT\\resultat_resultat_Adjudication_DAUDET_petit-chose_TesseractFra-PNG_spaCy3.7.2-lg.csv.aia.csv\n"
     ]
    }
   ],
   "source": [
    "# Fonction pour lire et traiter les fichiers CSV\n",
    "def process_csv_files(directory):\n",
    "    for filename in os.listdir(directory):\n",
    "        if filename.endswith(\".csv\"):\n",
    "            filepath = os.path.join(directory, filename)\n",
    "            df = pd.read_csv(filepath, sep=\";\")\n",
    "            process_annotations(df)\n",
    "            output_filepath = os.path.join(output_dir, f\"resultat_{filename}\")\n",
    "            df.to_csv(output_filepath, sep=\";\", index=False)\n",
    "            print(f\"Le fichier résultant a été sauvegardé à {output_filepath}\")\n",
    "\n",
    "# Fonction pour traiter les annotations\n",
    "def process_annotations(df):\n",
    "    # Ajouter les colonnes nécessaires\n",
    "    df['périmètre'] = df.apply(lambda row: 'X' if any(pd.notna(row[col]) for col in df.columns if col != 'Token') else '', axis=1)\n",
    "    df['accord'] = \"\"\n",
    "    df['désaccord_PER'] = \"\"\n",
    "    df['désaccord_LOC'] = \"\"\n",
    "    df['désaccord_ORG'] = \"\"\n",
    "    df['désaccord_MISC'] = \"\"\n",
    "    df['confusion'] = \"\"\n",
    "\n",
    "    def process_row(row):\n",
    "        annotations = [row[col] for col in df.columns if col != 'Token' and col != 'périmètre' and not col.startswith('désaccord') and col != 'accord' and col != 'confusion']\n",
    "        annotations = [ann for ann in annotations if pd.notna(ann)]\n",
    "        unique_annotations = set(annotations)\n",
    "\n",
    "        # Traiter la colonne accord\n",
    "        if len(annotations) >= 4:\n",
    "            most_common = max(set(annotations), key=annotations.count)\n",
    "            if annotations.count(most_common) >= 4:\n",
    "                row['accord'] = most_common\n",
    "            else:\n",
    "                if len(unique_annotations) == 2:\n",
    "                    counts = {annotation: annotations.count(annotation) for annotation in unique_annotations}\n",
    "                    sorted_counts = sorted(counts.items(), key=lambda item: item[1], reverse=True)\n",
    "                    if sorted_counts[0][1] > sorted_counts[1][1]:\n",
    "                        row['accord'] = sorted_counts[0][0]\n",
    "                    else:\n",
    "                        row['accord'] = \"WARNING !!\"\n",
    "                if 'PER' in annotations:\n",
    "                    row['désaccord_PER'] = 'X'\n",
    "                if 'LOC' in annotations:\n",
    "                    row['désaccord_LOC'] = 'X'\n",
    "                if 'ORG' in annotations:\n",
    "                    row['désaccord_ORG'] = 'X'\n",
    "                if 'MISC' in annotations:\n",
    "                    row['désaccord_MISC'] = 'X'\n",
    "        elif len(annotations) > 0:\n",
    "            if 'PER' in annotations:\n",
    "                row['désaccord_PER'] = 'X'\n",
    "            if 'LOC' in annotations:\n",
    "                row['désaccord_LOC'] = 'X'\n",
    "            if 'ORG' in annotations:\n",
    "                row['désaccord_ORG'] = 'X'\n",
    "            if 'MISC' in annotations:\n",
    "                row['désaccord_MISC'] = 'X'\n",
    "\n",
    "        # Vérifier la confusion : différentes annotations ou une annotation + rien\n",
    "        if len(unique_annotations) > 1 or (len(unique_annotations) == 1 and len(annotations) < len([row[col] for col in df.columns if col != 'Token' and col != 'périmètre' and not col.startswith('désaccord') and col != 'accord' and col != 'confusion'])):\n",
    "            row['confusion'] = 'X'\n",
    "\n",
    "        return row\n",
    "\n",
    "    df.apply(process_row, axis=1)\n",
    "\n",
    "# Lire et traiter les fichiers dans les deux dossiers\n",
    "process_csv_files(carraud_dir)\n",
    "process_csv_files(daudet_dir)"
   ]
  },
  {
   "cell_type": "code",
   "execution_count": 8,
   "id": "20e52423",
   "metadata": {},
   "outputs": [],
   "source": [
    "#création fichiers GOLD"
   ]
  },
  {
   "cell_type": "code",
   "execution_count": 15,
   "id": "a9c11aa7",
   "metadata": {},
   "outputs": [],
   "source": [
    "# Dossiers contenant les fichiers d'entrée\n",
    "daudet_dir = \"DAUDET\"\n",
    "carraud_dir = \"CARRAUD\"\n",
    "output_dir = \"GOLD_interpretatif\"\n",
    "\n",
    "# Créer le dossier de sortie s'il n'existe pas\n",
    "if not os.path.exists(output_dir):\n",
    "    os.makedirs(output_dir)"
   ]
  },
  {
   "cell_type": "code",
   "execution_count": 16,
   "id": "ff104357",
   "metadata": {},
   "outputs": [],
   "source": [
    "# Fichiers spécifiques à traiter\n",
    "daudet_files = [\n",
    "    \"resultat_Adjudication_DAUDET_petit-chose_Kraken-base_spaCy3.7.2-lg.csv.aia.csv\",\n",
    "    \"resultat_Adjudication_DAUDET_petit-chose_REF_spaCy3.7.2-lg.csv.aia.csv\",\n",
    "    \"resultat_Adjudication_DAUDET_petit-chose_TesseractFra-PNG_spaCy3.7.2-lg.csv.aia.csv\"\n",
    "]\n",
    "\n",
    "carraud_files = [\n",
    "    \"resultat_Adjudication_CARRAUD_petite-Jeanne_Kraken-base_spaCy3.7.2-lg.csv.aia.csv\",\n",
    "    \"resultat_Adjudication_CARRAUD_petite-Jeanne_REF_spaCy3.7.2-lg.csv.aia.csv\",\n",
    "    \"resultat_Adjudication_CARRAUD_petite-Jeanne_TesseractFra-PNG_spaCy3.7.2-lg.csv.aia.csv\"\n",
    "]"
   ]
  },
  {
   "cell_type": "code",
   "execution_count": 17,
   "id": "9e22a352",
   "metadata": {},
   "outputs": [
    {
     "name": "stderr",
     "output_type": "stream",
     "text": [
      "C:\\Users\\user\\AppData\\Local\\Temp\\ipykernel_13504\\750999820.py:6: DtypeWarning: Columns (4,5,6,8,9) have mixed types. Specify dtype option on import or set low_memory=False.\n",
      "  df = pd.read_csv(filepath, sep=\";\")\n"
     ]
    },
    {
     "name": "stdout",
     "output_type": "stream",
     "text": [
      "Le fichier résultant a été sauvegardé à GOLD_interpretatif\\resultat_Adjudication_DAUDET_petit-chose_Kraken-base_spaCy3.7.2-lg.csv.aia.csv\n"
     ]
    },
    {
     "name": "stderr",
     "output_type": "stream",
     "text": [
      "C:\\Users\\user\\AppData\\Local\\Temp\\ipykernel_13504\\750999820.py:6: DtypeWarning: Columns (4,5,6,8,9) have mixed types. Specify dtype option on import or set low_memory=False.\n",
      "  df = pd.read_csv(filepath, sep=\";\")\n"
     ]
    },
    {
     "name": "stdout",
     "output_type": "stream",
     "text": [
      "Le fichier résultant a été sauvegardé à GOLD_interpretatif\\resultat_Adjudication_DAUDET_petit-chose_REF_spaCy3.7.2-lg.csv.aia.csv\n"
     ]
    },
    {
     "name": "stderr",
     "output_type": "stream",
     "text": [
      "C:\\Users\\user\\AppData\\Local\\Temp\\ipykernel_13504\\750999820.py:6: DtypeWarning: Columns (4,5,6,8,9) have mixed types. Specify dtype option on import or set low_memory=False.\n",
      "  df = pd.read_csv(filepath, sep=\";\")\n"
     ]
    },
    {
     "name": "stdout",
     "output_type": "stream",
     "text": [
      "Le fichier résultant a été sauvegardé à GOLD_interpretatif\\resultat_Adjudication_DAUDET_petit-chose_TesseractFra-PNG_spaCy3.7.2-lg.csv.aia.csv\n",
      "Le fichier CARRAUD\\resultat_Adjudication_CARRAUD_petite-Jeanne_Kraken-base_spaCy3.7.2-lg.csv.aia.csv n'existe pas\n",
      "Le fichier résultant a été sauvegardé à GOLD_interpretatif\\resultat_Adjudication_CARRAUD_petite-Jeanne_REF_spaCy3.7.2-lg.csv.aia.csv\n"
     ]
    },
    {
     "name": "stderr",
     "output_type": "stream",
     "text": [
      "C:\\Users\\user\\AppData\\Local\\Temp\\ipykernel_13504\\750999820.py:6: DtypeWarning: Columns (6,7,10,11,12,13) have mixed types. Specify dtype option on import or set low_memory=False.\n",
      "  df = pd.read_csv(filepath, sep=\";\")\n",
      "C:\\Users\\user\\AppData\\Local\\Temp\\ipykernel_13504\\750999820.py:6: DtypeWarning: Columns (6,7,10,11,12,13) have mixed types. Specify dtype option on import or set low_memory=False.\n",
      "  df = pd.read_csv(filepath, sep=\";\")\n"
     ]
    },
    {
     "name": "stdout",
     "output_type": "stream",
     "text": [
      "Le fichier résultant a été sauvegardé à GOLD_interpretatif\\resultat_Adjudication_CARRAUD_petite-Jeanne_TesseractFra-PNG_spaCy3.7.2-lg.csv.aia.csv\n"
     ]
    }
   ],
   "source": [
    "# Fonction pour traiter les fichiers spécifiques\n",
    "def process_specific_files(directory, files):\n",
    "    for filename in files:\n",
    "        filepath = os.path.join(directory, filename)\n",
    "        if os.path.exists(filepath):\n",
    "            df = pd.read_csv(filepath, sep=\";\")\n",
    "            # Garder uniquement les colonnes \"Token\" et \"gold\"\n",
    "            if 'Token' in df.columns and 'gold' in df.columns:\n",
    "                result_df = df[['Token', 'gold']]\n",
    "                output_filepath = os.path.join(output_dir, filename)\n",
    "                result_df.to_csv(output_filepath, sep=\";\", index=False)\n",
    "                print(f\"Le fichier résultant a été sauvegardé à {output_filepath}\")\n",
    "            else:\n",
    "                print(f\"Les colonnes 'Token' ou 'gold' ne sont pas présentes dans le fichier {filename}\")\n",
    "        else:\n",
    "            print(f\"Le fichier {filepath} n'existe pas\")\n",
    "\n",
    "# Traiter les fichiers dans les deux dossiers\n",
    "process_specific_files(daudet_dir, daudet_files)\n",
    "process_specific_files(carraud_dir, carraud_files)"
   ]
  },
  {
   "cell_type": "code",
   "execution_count": 16,
   "id": "f77c251e",
   "metadata": {},
   "outputs": [],
   "source": [
    "#création fichiers accord majoritaire"
   ]
  },
  {
   "cell_type": "code",
   "execution_count": 17,
   "id": "0a9a4b37",
   "metadata": {},
   "outputs": [
    {
     "name": "stderr",
     "output_type": "stream",
     "text": [
      "C:\\Users\\user\\AppData\\Local\\Temp\\ipykernel_1864\\3010369002.py:24: DtypeWarning: Columns (4,5,6,8) have mixed types. Specify dtype option on import or set low_memory=False.\n",
      "  df = pd.read_csv(filepath, sep=\";\")\n"
     ]
    },
    {
     "name": "stdout",
     "output_type": "stream",
     "text": [
      "Le fichier résultant a été sauvegardé à ACCORD_MAJtr\\resultat_Adjudication_DAUDET_petit-chose_Kraken-base_spaCy3.7.2-lg.csv.aia.csv\n"
     ]
    },
    {
     "name": "stderr",
     "output_type": "stream",
     "text": [
      "C:\\Users\\user\\AppData\\Local\\Temp\\ipykernel_1864\\3010369002.py:24: DtypeWarning: Columns (4,5,6,8) have mixed types. Specify dtype option on import or set low_memory=False.\n",
      "  df = pd.read_csv(filepath, sep=\";\")\n"
     ]
    },
    {
     "name": "stdout",
     "output_type": "stream",
     "text": [
      "Le fichier résultant a été sauvegardé à ACCORD_MAJtr\\resultat_Adjudication_DAUDET_petit-chose_REF_spaCy3.7.2-lg.csv.aia.csv\n"
     ]
    },
    {
     "name": "stderr",
     "output_type": "stream",
     "text": [
      "C:\\Users\\user\\AppData\\Local\\Temp\\ipykernel_1864\\3010369002.py:24: DtypeWarning: Columns (4,5,6,8) have mixed types. Specify dtype option on import or set low_memory=False.\n",
      "  df = pd.read_csv(filepath, sep=\";\")\n"
     ]
    },
    {
     "name": "stdout",
     "output_type": "stream",
     "text": [
      "Le fichier résultant a été sauvegardé à ACCORD_MAJtr\\resultat_Adjudication_DAUDET_petit-chose_TesseractFra-PNG_spaCy3.7.2-lg.csv.aia.csv\n"
     ]
    },
    {
     "name": "stderr",
     "output_type": "stream",
     "text": [
      "C:\\Users\\user\\AppData\\Local\\Temp\\ipykernel_1864\\3010369002.py:24: DtypeWarning: Columns (6,7,10,11,12,13) have mixed types. Specify dtype option on import or set low_memory=False.\n",
      "  df = pd.read_csv(filepath, sep=\";\")\n"
     ]
    },
    {
     "name": "stdout",
     "output_type": "stream",
     "text": [
      "Le fichier résultant a été sauvegardé à ACCORD_MAJtr\\resultat_Adjudication_CARRAUD_petite-Jeanne_Kraken-base_spaCy3.7.2-lg.csv.aia.csv\n",
      "Le fichier résultant a été sauvegardé à ACCORD_MAJtr\\resultat_Adjudication_CARRAUD_petite-Jeanne_REF_spaCy3.7.2-lg.csv.aia.csv\n",
      "Le fichier résultant a été sauvegardé à ACCORD_MAJtr\\resultat_Adjudication_CARRAUD_petite-Jeanne_TesseractFra-PNG_spaCy3.7.2-lg.csv.aia.csv\n"
     ]
    },
    {
     "name": "stderr",
     "output_type": "stream",
     "text": [
      "C:\\Users\\user\\AppData\\Local\\Temp\\ipykernel_1864\\3010369002.py:24: DtypeWarning: Columns (6,7,10,11,12) have mixed types. Specify dtype option on import or set low_memory=False.\n",
      "  df = pd.read_csv(filepath, sep=\";\")\n"
     ]
    }
   ],
   "source": [
    "# Dossier contenant les fichiers d'entrée\n",
    "output_dir = \"OUTPUT\"\n",
    "output_files = [\n",
    "    \"resultat_Adjudication_DAUDET_petit-chose_Kraken-base_spaCy3.7.2-lg.csv.aia.csv\",\n",
    "    \"resultat_Adjudication_DAUDET_petit-chose_REF_spaCy3.7.2-lg.csv.aia.csv\",\n",
    "    \"resultat_Adjudication_DAUDET_petit-chose_TesseractFra-PNG_spaCy3.7.2-lg.csv.aia.csv\",\n",
    "    \"resultat_Adjudication_CARRAUD_petite-Jeanne_Kraken-base_spaCy3.7.2-lg.csv.aia.csv\",\n",
    "    \"resultat_Adjudication_CARRAUD_petite-Jeanne_REF_spaCy3.7.2-lg.csv.aia.csv\",\n",
    "    \"resultat_Adjudication_CARRAUD_petite-Jeanne_TesseractFra-PNG_spaCy3.7.2-lg.csv.aia.csv\"\n",
    "]\n",
    "\n",
    "# Dossier de sortie\n",
    "accord_majtr_dir = \"ACCORD_MAJtr\"\n",
    "\n",
    "# Créer le dossier de sortie s'il n'existe pas\n",
    "if not os.path.exists(accord_majtr_dir):\n",
    "    os.makedirs(accord_majtr_dir)\n",
    "\n",
    "# Fonction pour traiter les fichiers spécifiques\n",
    "def process_output_files(directory, files):\n",
    "    for filename in files:\n",
    "        filepath = os.path.join(directory, filename)\n",
    "        if os.path.exists(filepath):\n",
    "            df = pd.read_csv(filepath, sep=\";\")\n",
    "            # Garder uniquement les colonnes \"Token\" et \"accord\"\n",
    "            if 'Token' in df.columns and 'accord' in df.columns:\n",
    "                result_df = df[['Token', 'accord']]\n",
    "                output_filepath = os.path.join(accord_majtr_dir, filename)\n",
    "                result_df.to_csv(output_filepath, sep=\";\", index=False)\n",
    "                print(f\"Le fichier résultant a été sauvegardé à {output_filepath}\")\n",
    "            else:\n",
    "                print(f\"Les colonnes 'Token' ou 'accord' ne sont pas présentes dans le fichier {filename}\")\n",
    "        else:\n",
    "            print(f\"Le fichier {filepath} n'existe pas\")\n",
    "\n",
    "# Traiter les fichiers dans le dossier OUTPUT\n",
    "process_output_files(output_dir, output_files)"
   ]
  }
 ],
 "metadata": {
  "kernelspec": {
   "display_name": "Python 3 (ipykernel)",
   "language": "python",
   "name": "python3"
  },
  "language_info": {
   "codemirror_mode": {
    "name": "ipython",
    "version": 3
   },
   "file_extension": ".py",
   "mimetype": "text/x-python",
   "name": "python",
   "nbconvert_exporter": "python",
   "pygments_lexer": "ipython3",
   "version": "3.11.5"
  }
 },
 "nbformat": 4,
 "nbformat_minor": 5
}
