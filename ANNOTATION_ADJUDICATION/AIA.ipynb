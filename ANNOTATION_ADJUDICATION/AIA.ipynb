{
 "cells": [
  {
   "cell_type": "code",
   "execution_count": 1,
   "id": "280b8455",
   "metadata": {},
   "outputs": [],
   "source": [
    "import pandas as pd\n",
    "import os"
   ]
  },
  {
   "cell_type": "code",
   "execution_count": 5,
   "id": "dbb59180",
   "metadata": {},
   "outputs": [],
   "source": [
    "# Sous-dossiers contenant les fichiers CSV\n",
    "carraud_dir = \"CARRAUD\"\n",
    "daudet_dir = \"DAUDET\""
   ]
  },
  {
   "cell_type": "code",
   "execution_count": null,
   "id": "12b08d90",
   "metadata": {},
   "outputs": [
    {
     "name": "stderr",
     "output_type": "stream",
     "text": [
      "C:\\Users\\user\\AppData\\Local\\Temp\\ipykernel_4928\\2108675908.py:11: DtypeWarning: Columns (6,7) have mixed types. Specify dtype option on import or set low_memory=False.\n",
      "  df = pd.read_csv(filepath, sep=\";\")\n",
      "C:\\Users\\user\\AppData\\Local\\Temp\\ipykernel_4928\\2108675908.py:11: DtypeWarning: Columns (6,7) have mixed types. Specify dtype option on import or set low_memory=False.\n",
      "  df = pd.read_csv(filepath, sep=\";\")\n"
     ]
    }
   ],
   "source": [
    "# Fonction pour vérifier l'existence du répertoire et lire les fichiers CSV\n",
    "def read_csv_files(directory):\n",
    "    if not os.path.exists(directory):\n",
    "        print(f\"Le répertoire {directory} n'existe pas.\")\n",
    "        return []\n",
    "    \n",
    "    dataframes = []\n",
    "    for filename in os.listdir(directory):\n",
    "        if filename.endswith(\".csv\"):\n",
    "            filepath = os.path.join(directory, filename)\n",
    "            df = pd.read_csv(filepath, sep=\";\")\n",
    "            dataframes.append(df)\n",
    "    return dataframes\n",
    "\n",
    "# Combiner les données de tous les DataFrames en un seul\n",
    "def combine_dataframes(dataframes):\n",
    "    if not dataframes:\n",
    "        return pd.DataFrame()  # Retourne un DataFrame vide si la liste est vide\n",
    "    \n",
    "    combined_df = pd.concat(dataframes, ignore_index=True)\n",
    "    return combined_df\n",
    "\n",
    "# Lire les fichiers et combiner les données\n",
    "carraud_dfs = read_csv_files(carraud_dir)\n",
    "daudet_dfs = read_csv_files(daudet_dir)\n",
    "combined_df = combine_dataframes(carraud_dfs + daudet_dfs)\n",
    "\n",
    "if combined_df.empty:\n",
    "    print(\"Aucun fichier CSV trouvé dans les répertoires spécifiés.\")\n",
    "else:\n",
    "    # Ajouter les colonnes nécessaires\n",
    "    combined_df['périmètre'] = combined_df.apply(lambda row: 'X' if any(pd.notna(row[col]) for col in combined_df.columns if col != 'Token') else '', axis=1)\n",
    "\n",
    "    def process_annotations(row):\n",
    "        annotations = [row[col] for col in combined_df.columns if col != 'Token' and col != 'périmètre']\n",
    "        annotations = [ann for ann in annotations if pd.notna(ann)]\n",
    "        if len(annotations) >= 4:\n",
    "            # Vérifier la majorité\n",
    "            most_common = max(set(annotations), key=annotations.count)\n",
    "            if annotations.count(most_common) >= 4:\n",
    "                row['accord'] = most_common\n",
    "                return row\n",
    "        if len(annotations) > 0:\n",
    "            row['désaccord'] = ','.join(set(annotations))\n",
    "            row['confusion'] = 'X'\n",
    "        return row\n",
    "\n",
    "    combined_df = combined_df.apply(process_annotations, axis=1)\n",
    "    combined_df['accord'] = combined_df.get('accord', \"\")\n",
    "    combined_df['désaccord'] = combined_df.get('désaccord', \"\")\n",
    "    combined_df['confusion'] = combined_df.get('confusion', \"\")\n",
    "\n",
    "    # Sauvegarder le résultat dans un nouveau fichier CSV\n",
    "    output_filepath = \"resultat_annotations.csv\"\n",
    "    combined_df.to_csv(output_filepath, sep=\";\", index=False)\n",
    "    print(f\"Le fichier résultant a été sauvegardé à {output_filepath}\")"
   ]
  },
  {
   "cell_type": "code",
   "execution_count": null,
   "id": "6682b239",
   "metadata": {},
   "outputs": [],
   "source": []
  },
  {
   "cell_type": "code",
   "execution_count": null,
   "id": "fadc39af",
   "metadata": {},
   "outputs": [],
   "source": []
  }
 ],
 "metadata": {
  "kernelspec": {
   "display_name": "Python 3 (ipykernel)",
   "language": "python",
   "name": "python3"
  },
  "language_info": {
   "codemirror_mode": {
    "name": "ipython",
    "version": 3
   },
   "file_extension": ".py",
   "mimetype": "text/x-python",
   "name": "python",
   "nbconvert_exporter": "python",
   "pygments_lexer": "ipython3",
   "version": "3.11.5"
  }
 },
 "nbformat": 4,
 "nbformat_minor": 5
}
